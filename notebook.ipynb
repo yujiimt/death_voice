{
 "cells": [
  {
   "cell_type": "code",
   "execution_count": 16,
   "metadata": {},
   "outputs": [],
   "source": [
    "import wave\n",
    "from scipy import fromstring, int16"
   ]
  },
  {
   "cell_type": "code",
   "execution_count": 11,
   "metadata": {},
   "outputs": [],
   "source": [
    "wavf = \"/Users/imutayuji/Downloads/ダウンロード.wav\""
   ]
  },
  {
   "cell_type": "code",
   "execution_count": 12,
   "metadata": {},
   "outputs": [],
   "source": [
    "wr = wave.open(wavf, 'r')"
   ]
  },
  {
   "cell_type": "code",
   "execution_count": 13,
   "metadata": {},
   "outputs": [],
   "source": [
    "ch = wr.getnchannels()\n",
    "width = wr.getsampwidth()\n",
    "fr = wr.getframerate()\n",
    "fn = wr.getnframes()"
   ]
  },
  {
   "cell_type": "code",
   "execution_count": 14,
   "metadata": {},
   "outputs": [],
   "source": [
    "data = wr.readframes(wr.getnframes())"
   ]
  },
  {
   "cell_type": "code",
   "execution_count": 19,
   "metadata": {},
   "outputs": [
    {
     "name": "stderr",
     "output_type": "stream",
     "text": [
      "/Users/imutayuji/opt/anaconda3/envs/brave/lib/python3.7/site-packages/ipykernel_launcher.py:1: DeprecationWarning: scipy.fromstring is deprecated and will be removed in SciPy 2.0.0, use numpy.fromstring instead\n",
      "  \"\"\"Entry point for launching an IPython kernel.\n"
     ]
    }
   ],
   "source": [
    "data = fromstring(data, dtype=int16)"
   ]
  },
  {
   "cell_type": "code",
   "execution_count": 20,
   "metadata": {},
   "outputs": [
    {
     "ename": "NameError",
     "evalue": "name 'fs' is not defined",
     "output_type": "error",
     "traceback": [
      "\u001b[0;31m---------------------------------------------------------------------------\u001b[0m",
      "\u001b[0;31mNameError\u001b[0m                                 Traceback (most recent call last)",
      "\u001b[0;32m<ipython-input-20-7639b8c34cbb>\u001b[0m in \u001b[0;36m<module>\u001b[0;34m\u001b[0m\n\u001b[1;32m      5\u001b[0m \u001b[0mframe_length\u001b[0m \u001b[0;34m=\u001b[0m \u001b[0mdata\u001b[0m\u001b[0;34m.\u001b[0m\u001b[0mshape\u001b[0m\u001b[0;34m[\u001b[0m\u001b[0;36m0\u001b[0m\u001b[0;34m]\u001b[0m\u001b[0;34m\u001b[0m\u001b[0;34m\u001b[0m\u001b[0m\n\u001b[1;32m      6\u001b[0m \u001b[0;34m\u001b[0m\u001b[0m\n\u001b[0;32m----> 7\u001b[0;31m \u001b[0mtime_song\u001b[0m \u001b[0;34m=\u001b[0m \u001b[0mfloat\u001b[0m\u001b[0;34m(\u001b[0m\u001b[0mframe_length\u001b[0m\u001b[0;34m)\u001b[0m \u001b[0;34m/\u001b[0m \u001b[0mfs\u001b[0m\u001b[0;34m\u001b[0m\u001b[0;34m\u001b[0m\u001b[0m\n\u001b[0m\u001b[1;32m      8\u001b[0m \u001b[0mtime_unit\u001b[0m \u001b[0;34m=\u001b[0m \u001b[0;36m1.0\u001b[0m \u001b[0;34m/\u001b[0m \u001b[0mfloat\u001b[0m\u001b[0;34m(\u001b[0m\u001b[0mfs\u001b[0m\u001b[0;34m)\u001b[0m\u001b[0;34m\u001b[0m\u001b[0;34m\u001b[0m\u001b[0m\n\u001b[1;32m      9\u001b[0m \u001b[0;34m\u001b[0m\u001b[0m\n",
      "\u001b[0;31mNameError\u001b[0m: name 'fs' is not defined"
     ]
    }
   ],
   "source": [
    "nfft = 1024\n",
    "#FFTの時のサイズ\n",
    "overlap =nfft // 2\n",
    "#オーバーラップする範囲\n",
    "frame_length = data.shape[0]\n",
    "\n",
    "time_song = float(frame_length) / fs\n",
    "time_unit = 1.0 / float(fs)\n",
    "\n",
    "start = (nfft // 2) * time_unit\n",
    "stop = time_song\n",
    "step = (nfft - overlap) * time_unit\n",
    "time_ruler = np.arange(start, stop, step)\n",
    "\n",
    "\n",
    "window = np.hamming(nfft)\n",
    "spec = np.zeros([len(time_ruler), int(nfft)], dtype=np.complex)\n",
    "pos = 0\n",
    "\n",
    "#フーリエ変換の実行\n",
    "for fft_index in range(len(time_ruler)):\n",
    "    frame = data[pos:pos+nfft]\n",
    "    if len(frame) == nfft:\n",
    "        #windowed = window * frame\n",
    "        windowed = frame \n",
    "        #窓関数をかけるとうまく書き戻せないのでかけないことにした\n",
    "        fft_result = np.fft.fft(windowed)\n",
    "        for i in range(len(spec[fft_index])):\n",
    "            spec[fft_index][i] = fft_result[i]\n",
    "        pos += int(nfft - overlap)\n",
    "\n",
    "N = 100\n",
    "#適当なフレームを選択\n",
    "x = np.arange(0, fs, fs/len(spec[N]))\n",
    "y = np.abs(spec[N])\n",
    "plt.plot(x, y)\n",
    "plt.show()"
   ]
  },
  {
   "cell_type": "code",
   "execution_count": null,
   "metadata": {},
   "outputs": [],
   "source": []
  }
 ],
 "metadata": {
  "kernelspec": {
   "display_name": "Python 3",
   "language": "python",
   "name": "python3"
  },
  "language_info": {
   "codemirror_mode": {
    "name": "ipython",
    "version": 3
   },
   "file_extension": ".py",
   "mimetype": "text/x-python",
   "name": "python",
   "nbconvert_exporter": "python",
   "pygments_lexer": "ipython3",
   "version": "3.7.7"
  }
 },
 "nbformat": 4,
 "nbformat_minor": 4
}
